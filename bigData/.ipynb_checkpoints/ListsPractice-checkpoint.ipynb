{
 "cells": [
  {
   "cell_type": "code",
   "execution_count": 5,
   "id": "67aa3e87",
   "metadata": {},
   "outputs": [
    {
     "data": {
      "text/plain": [
       "'cat'"
      ]
     },
     "execution_count": 5,
     "metadata": {},
     "output_type": "execute_result"
    }
   ],
   "source": [
    "span = ['cat', 'rat', 'bat', 'elephent']\n",
    "span[0]"
   ]
  },
  {
   "cell_type": "code",
   "execution_count": 4,
   "id": "1f36c009",
   "metadata": {},
   "outputs": [
    {
     "data": {
      "text/plain": [
       "'bat'"
      ]
     },
     "execution_count": 4,
     "metadata": {},
     "output_type": "execute_result"
    }
   ],
   "source": [
    "span[2]"
   ]
  },
  {
   "cell_type": "code",
   "execution_count": 5,
   "id": "be99c5e2",
   "metadata": {},
   "outputs": [
    {
     "data": {
      "text/plain": [
       "'Hello cat, rat said elephent Fucked bat any thoughts'"
      ]
     },
     "execution_count": 5,
     "metadata": {},
     "output_type": "execute_result"
    }
   ],
   "source": [
    "'Hello ' + span[0] + ', ' + span[1] + ' said '+ span[3] + ' Fucked '+ span[2] + ' any thoughts'"
   ]
  },
  {
   "cell_type": "code",
   "execution_count": 6,
   "id": "722ee41f",
   "metadata": {},
   "outputs": [
    {
     "data": {
      "text/plain": [
       "'elephent Fucked bat 40 times  that day alone. Any thoughts cat. '"
      ]
     },
     "execution_count": 6,
     "metadata": {},
     "output_type": "execute_result"
    }
   ],
   "source": [
    "spanTwo = [span, [10, 20, 30, 40]]\n",
    "spanTwo[0][3] + ' Fucked '+ spanTwo[0][2] + ' ' + str(spanTwo[1][3]) + ' times ' + ' that day alone. Any thoughts '+ spanTwo[0][0] + '. '\n"
   ]
  },
  {
   "cell_type": "code",
   "execution_count": 7,
   "id": "811f9655",
   "metadata": {},
   "outputs": [
    {
     "data": {
      "text/plain": [
       "'elephent Fucked bat 40 times  that day alone. Any thoughts cat. '"
      ]
     },
     "execution_count": 7,
     "metadata": {},
     "output_type": "execute_result"
    }
   ],
   "source": [
    "# Negative Indexes \n",
    "spanTwo[0][-1] + ' Fucked '+ spanTwo[0][-2] + ' ' + str(spanTwo[1][3]) + ' times ' + ' that day alone. Any thoughts '+ spanTwo[0][0] + '. '\n"
   ]
  },
  {
   "cell_type": "code",
   "execution_count": 11,
   "id": "602fd7c6",
   "metadata": {},
   "outputs": [
    {
     "data": {
      "text/plain": [
       "['cat', 'bat', 'rat', 'elephent', 'ant']"
      ]
     },
     "execution_count": 11,
     "metadata": {},
     "output_type": "execute_result"
    }
   ],
   "source": [
    "# Getting a list from another list with Slices...\n",
    "# Just as an index can get a single value from a list, a slice can get several values from a list, \n",
    "# in the form of a new list.\n",
    "# in a slice, the first integer is the index where the slice starts.\n",
    "# The second integer is the index where the slice ends.\n",
    "# A slice will go upto but will not include, the value at the second index\n",
    "# Example :- \n",
    "\n",
    "spanThree = ['cat', 'bat', 'rat', 'elephent', 'ant']\n",
    "spanThree[0:5]"
   ]
  },
  {
   "cell_type": "code",
   "execution_count": 13,
   "id": "2e57d0e3",
   "metadata": {},
   "outputs": [
    {
     "data": {
      "text/plain": [
       "['bat', 'rat', 'elephent']"
      ]
     },
     "execution_count": 13,
     "metadata": {},
     "output_type": "execute_result"
    }
   ],
   "source": [
    "spanThree[1:4]"
   ]
  },
  {
   "cell_type": "code",
   "execution_count": 15,
   "id": "80769a15",
   "metadata": {},
   "outputs": [
    {
     "data": {
      "text/plain": [
       "['cat', 'bat', 'rat', 'elephent']"
      ]
     },
     "execution_count": 15,
     "metadata": {},
     "output_type": "execute_result"
    }
   ],
   "source": [
    "spanThree[0:-1]"
   ]
  },
  {
   "cell_type": "code",
   "execution_count": 21,
   "id": "ca90228c",
   "metadata": {},
   "outputs": [
    {
     "data": {
      "text/plain": [
       "['cat', 'bat', 'rat', 'elephent', 'ant']"
      ]
     },
     "execution_count": 21,
     "metadata": {},
     "output_type": "execute_result"
    }
   ],
   "source": [
    "# As a shortcut, you can leave out one or both the indexes on either side of the colon in the slice.\n",
    "# leaving out the first index is the same as using 0, or the beginning of the list.\n",
    "# leaving out the second index is the same as using the length of the list, which will slice to the end of the list\n",
    "# Example :- \n",
    "\n",
    "spanThree[:]"
   ]
  },
  {
   "cell_type": "code",
   "execution_count": 23,
   "id": "02d9a362",
   "metadata": {},
   "outputs": [
    {
     "data": {
      "text/plain": [
       "4"
      ]
     },
     "execution_count": 23,
     "metadata": {},
     "output_type": "execute_result"
    }
   ],
   "source": [
    "# Getting the list lengthe with the length function\n",
    "\n",
    "len(span)"
   ]
  },
  {
   "cell_type": "code",
   "execution_count": 25,
   "id": "3d70c268",
   "metadata": {},
   "outputs": [
    {
     "data": {
      "text/plain": [
       "2"
      ]
     },
     "execution_count": 25,
     "metadata": {},
     "output_type": "execute_result"
    }
   ],
   "source": [
    "len(spanTwo)"
   ]
  },
  {
   "cell_type": "code",
   "execution_count": 27,
   "id": "5c37800a",
   "metadata": {},
   "outputs": [
    {
     "data": {
      "text/plain": [
       "5"
      ]
     },
     "execution_count": 27,
     "metadata": {},
     "output_type": "execute_result"
    }
   ],
   "source": [
    "len(spanThree)"
   ]
  },
  {
   "cell_type": "code",
   "execution_count": 30,
   "id": "6de81e16",
   "metadata": {},
   "outputs": [
    {
     "data": {
      "text/plain": [
       "['hat', 'bat', 'rat', 'elephent', 'ant']"
      ]
     },
     "execution_count": 30,
     "metadata": {},
     "output_type": "execute_result"
    }
   ],
   "source": [
    "# Changing values in a list with indexes\n",
    "\n",
    "spanThree[0] = 'hat'\n",
    "spanThree"
   ]
  },
  {
   "cell_type": "code",
   "execution_count": 32,
   "id": "5bf74c61",
   "metadata": {},
   "outputs": [
    {
     "data": {
      "text/plain": [
       "['hat', 'bat', 'rat', 'cat', 'ant']"
      ]
     },
     "execution_count": 32,
     "metadata": {},
     "output_type": "execute_result"
    }
   ],
   "source": [
    "spanThree[3] = 'cat'\n",
    "spanThree"
   ]
  },
  {
   "cell_type": "code",
   "execution_count": 35,
   "id": "ad9bc829",
   "metadata": {},
   "outputs": [
    {
     "data": {
      "text/plain": [
       "['hat', 'bat', 'rat', 'cat', 'mat']"
      ]
     },
     "execution_count": 35,
     "metadata": {},
     "output_type": "execute_result"
    }
   ],
   "source": [
    "spanThree[-1] = 'mat'\n",
    "spanThree"
   ]
  }
 ],
 "metadata": {
  "kernelspec": {
   "display_name": "Python 3",
   "language": "python",
   "name": "python3"
  },
  "language_info": {
   "codemirror_mode": {
    "name": "ipython",
    "version": 3
   },
   "file_extension": ".py",
   "mimetype": "text/x-python",
   "name": "python",
   "nbconvert_exporter": "python",
   "pygments_lexer": "ipython3",
   "version": "3.8.6"
  }
 },
 "nbformat": 4,
 "nbformat_minor": 5
}
