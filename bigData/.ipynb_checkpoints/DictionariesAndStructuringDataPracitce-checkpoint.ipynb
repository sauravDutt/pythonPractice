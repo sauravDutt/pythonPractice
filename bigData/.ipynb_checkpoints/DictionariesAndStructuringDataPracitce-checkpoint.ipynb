{
 "cells": [
  {
   "cell_type": "code",
   "execution_count": 1,
   "id": "c1e3cf94",
   "metadata": {},
   "outputs": [],
   "source": [
    "\n",
    "# This is the Dictionaries and Structuring Data Revision...\n",
    "\n",
    "# Dictionaries, like a list a dectionary is a mutable collection of many values.\n",
    "# But unlike indexes for lists, indexes for dictionaries can use many different data types, not just integers.\n",
    "# Indexes for dictionaries are called keys, and a \"key\" with its associated value is called a \"key-value pair\".\n",
    "# in Code a dectionary is typed with braces, {} \n",
    "\n",
    "# Example :- "
   ]
  },
  {
   "cell_type": "code",
   "execution_count": 2,
   "id": "dee632dd",
   "metadata": {},
   "outputs": [],
   "source": [
    "myCat = {\n",
    "    'size': 'fat',\n",
    "    'color': 'orange',\n",
    "    'disposition': 'loud'\n",
    "}\n",
    "\n",
    "# This assigns a dictionary to the myCat variable. This dictionary's keys are 'size', 'color', 'disposition'\n",
    "# and the values are 'fat', 'orange', 'loud' respectively. You can access these values through their keys :- \n"
   ]
  },
  {
   "cell_type": "code",
   "execution_count": 3,
   "id": "944de835",
   "metadata": {},
   "outputs": [
    {
     "data": {
      "text/plain": [
       "'fat'"
      ]
     },
     "execution_count": 3,
     "metadata": {},
     "output_type": "execute_result"
    }
   ],
   "source": [
    "myCat['size']"
   ]
  },
  {
   "cell_type": "code",
   "execution_count": 6,
   "id": "611ecf6d",
   "metadata": {},
   "outputs": [
    {
     "data": {
      "text/plain": [
       "'my Cat has \"orange\" fur.'"
      ]
     },
     "execution_count": 6,
     "metadata": {},
     "output_type": "execute_result"
    }
   ],
   "source": [
    "'my Cat has \"'+ myCat['color'] + '\" fur.'"
   ]
  },
  {
   "cell_type": "code",
   "execution_count": 7,
   "id": "e8dd3425",
   "metadata": {},
   "outputs": [
    {
     "data": {
      "text/plain": [
       "False"
      ]
     },
     "execution_count": 7,
     "metadata": {},
     "output_type": "execute_result"
    }
   ],
   "source": [
    "# Dictionaries Vs Lists\n",
    "# Unlike list, items in dictionaries are unordered.\n",
    "# The first item in list named spam would be spam[0], but there is no \"first\" item in dictionary. \n",
    "# While the order of items matters for determining whether two lists are the same, \n",
    "# it does not matter in what order the key-value pairs are typed in a dictionary\n",
    "# Example :- \n",
    "\n",
    "spam = ['cats', 'bats', 'moose']\n",
    "bacon = ['bats', 'cats', 'moose']\n",
    "spam == bacon\n"
   ]
  },
  {
   "cell_type": "code",
   "execution_count": 8,
   "id": "0c06a476",
   "metadata": {},
   "outputs": [
    {
     "data": {
      "text/plain": [
       "True"
      ]
     },
     "execution_count": 8,
     "metadata": {},
     "output_type": "execute_result"
    }
   ],
   "source": [
    "eggs = {'name': 'Simba', 'species': 'cat', 'age': '2'}\n",
    "ham = {'age': '2', 'name': 'Simba', 'species': 'cat'}\n",
    "eggs == ham"
   ]
  },
  {
   "cell_type": "code",
   "execution_count": 9,
   "id": "0c12f9e1",
   "metadata": {},
   "outputs": [],
   "source": [
    "# Because dictionaries are not ordered, they can't be sliced like lists.\n",
    "# Trying to access a key that does not exist in a dictionary will result in a KeyError error message."
   ]
  },
  {
   "cell_type": "code",
   "execution_count": 10,
   "id": "cd3234d6",
   "metadata": {},
   "outputs": [
    {
     "name": "stdout",
     "output_type": "stream",
     "text": [
      "Enter a name: \n",
      " ( blank to quit )\n",
      "Mom\n",
      "Nov 27 is the birthday of Mom\n",
      "Enter a name: \n",
      " ( blank to quit )\n",
      "Avi\n",
      "I do not have birthday information for Avi\n",
      "What is their birthday?\n",
      "Feb 5\n",
      "Birthday database updated...\n",
      "Enter a name: \n",
      " ( blank to quit )\n",
      "Avi\n",
      "Feb 5 is the birthday of Avi\n",
      "Enter a name: \n",
      " ( blank to quit )\n",
      "\n"
     ]
    }
   ],
   "source": [
    "# Though dictionaries are not ordered, the fact that you can kave arbitrary values for the keys \n",
    "# allows you to organize your data in powerful ways. \n",
    "\n",
    "# Say you wanted your program to store data about your friends' birthdays as values :- \n",
    "\n",
    "birthdays = {'Anshul': 'Sep 24', 'Mom': 'Nov 27', 'Dad': 'March 20', 'Saurav': 'Feb 22'}\n",
    "\n",
    "while True:\n",
    "    print('Enter a name: \\n ( blank to quit )')\n",
    "    name = input()\n",
    "    if name == '':\n",
    "        break\n",
    "    \n",
    "    if name in birthdays:\n",
    "        print(birthdays[name] + ' is the birthday of '+ name)\n",
    "    else:\n",
    "        print('I do not have birthday information for '+ name)\n",
    "        print('What is their birthday?')\n",
    "        bday = input()\n",
    "        birthdays[name] = bday\n",
    "        print(\"Birthday database updated...\")\n",
    "\n",
    "# All the data entered in this program is forgotten whe the program terminates, \n",
    "# We'll learn how to save data to files on the hard drive in the \"Reading and Writing Files\" Chapter\n",
    "        "
   ]
  },
  {
   "cell_type": "code",
   "execution_count": null,
   "id": "0a71f99b",
   "metadata": {},
   "outputs": [],
   "source": [
    "# The keys(), values() and items() Methods\n",
    "\n",
    "# There are three dictionary methods that will return list-like values of \n",
    "# the dictionary's keys, values or bothe keys and values: keys(), values(), and items().\n",
    "# The values returned by these methods are not true lists: they cannot be modified and do not have an append() method.\n"
   ]
  }
 ],
 "metadata": {
  "kernelspec": {
   "display_name": "Python 3",
   "language": "python",
   "name": "python3"
  },
  "language_info": {
   "codemirror_mode": {
    "name": "ipython",
    "version": 3
   },
   "file_extension": ".py",
   "mimetype": "text/x-python",
   "name": "python",
   "nbconvert_exporter": "python",
   "pygments_lexer": "ipython3",
   "version": "3.8.6"
  }
 },
 "nbformat": 4,
 "nbformat_minor": 5
}
