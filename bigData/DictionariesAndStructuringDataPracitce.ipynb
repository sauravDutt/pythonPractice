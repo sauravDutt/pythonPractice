{
 "cells": [
  {
   "cell_type": "code",
   "execution_count": 1,
   "id": "c1e3cf94",
   "metadata": {},
   "outputs": [],
   "source": [
    "\n",
    "# This is the Dictionaries and Structuring Data Revision...\n",
    "\n",
    "# Dictionaries, like a list a dectionary is a mutable collection of many values.\n",
    "# But unlike indexes for lists, indexes for dictionaries can use many different data types, not just integers.\n",
    "# Indexes for dictionaries are called keys, and a \"key\" with its associated value is called a \"key-value pair\".\n",
    "# in Code a dectionary is typed with braces, {} \n",
    "\n",
    "# Example :- "
   ]
  },
  {
   "cell_type": "code",
   "execution_count": 2,
   "id": "dee632dd",
   "metadata": {},
   "outputs": [],
   "source": [
    "myCat = {\n",
    "    'size': 'fat',\n",
    "    'color': 'orange',\n",
    "    'disposition': 'loud'\n",
    "}\n",
    "\n",
    "# This assigns a dictionary to the myCat variable. This dictionary's keys are 'size', 'color', 'disposition'\n",
    "# and the values are 'fat', 'orange', 'loud' respectively. You can access these values through their keys :- \n"
   ]
  },
  {
   "cell_type": "code",
   "execution_count": 3,
   "id": "944de835",
   "metadata": {},
   "outputs": [
    {
     "data": {
      "text/plain": [
       "'fat'"
      ]
     },
     "execution_count": 3,
     "metadata": {},
     "output_type": "execute_result"
    }
   ],
   "source": [
    "myCat['size']"
   ]
  },
  {
   "cell_type": "code",
   "execution_count": 4,
   "id": "611ecf6d",
   "metadata": {},
   "outputs": [
    {
     "data": {
      "text/plain": [
       "'my Cat has \"orange\" fur.'"
      ]
     },
     "execution_count": 4,
     "metadata": {},
     "output_type": "execute_result"
    }
   ],
   "source": [
    "'my Cat has \"'+ myCat['color'] + '\" fur.'"
   ]
  },
  {
   "cell_type": "code",
   "execution_count": 5,
   "id": "e8dd3425",
   "metadata": {},
   "outputs": [
    {
     "data": {
      "text/plain": [
       "False"
      ]
     },
     "execution_count": 5,
     "metadata": {},
     "output_type": "execute_result"
    }
   ],
   "source": [
    "# Dictionaries Vs Lists\n",
    "# Unlike list, items in dictionaries are unordered.\n",
    "# The first item in list named spam would be spam[0], but there is no \"first\" item in dictionary. \n",
    "# While the order of items matters for determining whether two lists are the same, \n",
    "# it does not matter in what order the key-value pairs are typed in a dictionary\n",
    "# Example :- \n",
    "\n",
    "spam = ['cats', 'bats', 'moose']\n",
    "bacon = ['bats', 'cats', 'moose']\n",
    "spam == bacon\n"
   ]
  },
  {
   "cell_type": "code",
   "execution_count": 6,
   "id": "0c06a476",
   "metadata": {},
   "outputs": [
    {
     "data": {
      "text/plain": [
       "True"
      ]
     },
     "execution_count": 6,
     "metadata": {},
     "output_type": "execute_result"
    }
   ],
   "source": [
    "eggs = {'name': 'Simba', 'species': 'cat', 'age': '2'}\n",
    "ham = {'age': '2', 'name': 'Simba', 'species': 'cat'}\n",
    "eggs == ham"
   ]
  },
  {
   "cell_type": "code",
   "execution_count": 7,
   "id": "0c12f9e1",
   "metadata": {},
   "outputs": [],
   "source": [
    "# Because dictionaries are not ordered, they can't be sliced like lists.\n",
    "# Trying to access a key that does not exist in a dictionary will result in a KeyError error message."
   ]
  },
  {
   "cell_type": "code",
   "execution_count": 8,
   "id": "cd3234d6",
   "metadata": {},
   "outputs": [
    {
     "name": "stdout",
     "output_type": "stream",
     "text": [
      "Enter a name: \n",
      " ( blank to quit )\n",
      "Saurav\n",
      "Feb 22 is the birthday of Saurav\n",
      "Enter a name: \n",
      " ( blank to quit )\n",
      "Anshul\n",
      "Sep 24 is the birthday of Anshul\n",
      "Enter a name: \n",
      " ( blank to quit )\n",
      "Mom\n",
      "Nov 27 is the birthday of Mom\n",
      "Enter a name: \n",
      " ( blank to quit )\n",
      "Dad\n",
      "March 20 is the birthday of Dad\n",
      "Enter a name: \n",
      " ( blank to quit )\n",
      "\n"
     ]
    }
   ],
   "source": [
    "# Though dictionaries are not ordered, the fact that you can kave arbitrary values for the keys \n",
    "# allows you to organize your data in powerful ways. \n",
    "\n",
    "# Say you wanted your program to store data about your friends' birthdays as values :- \n",
    "\n",
    "birthdays = {'Anshul': 'Sep 24', 'Mom': 'Nov 27', 'Dad': 'March 20', 'Saurav': 'Feb 22'}\n",
    "\n",
    "while True:\n",
    "    print('Enter a name: \\n ( blank to quit )')\n",
    "    name = input()\n",
    "    if name == '':\n",
    "        break\n",
    "    \n",
    "    if name in birthdays:\n",
    "        print(birthdays[name] + ' is the birthday of '+ name)\n",
    "    else:\n",
    "        print('I do not have birthday information for '+ name)\n",
    "        print('What is their birthday?')\n",
    "        bday = input()\n",
    "        birthdays[name] = bday\n",
    "        print(\"Birthday database updated...\")\n",
    "\n",
    "# All the data entered in this program is forgotten whe the program terminates, \n",
    "# We'll learn how to save data to files on the hard drive in the \"Reading and Writing Files\" Chapter\n",
    "        "
   ]
  },
  {
   "cell_type": "code",
   "execution_count": 9,
   "id": "0a71f99b",
   "metadata": {},
   "outputs": [
    {
     "name": "stdout",
     "output_type": "stream",
     "text": [
      "red\n",
      "23\n"
     ]
    }
   ],
   "source": [
    "# The keys(), values() and items() Methods\n",
    "\n",
    "# There are three dictionary methods that will return list-like values of \n",
    "# the dictionary's keys, values or bothe keys and values: keys(), values(), and items().\n",
    "# The values returned by these methods are not true lists: they cannot be modified and do not have an append() method.\n",
    "# But these date types (dict_keys, dict_values and dict_items, respectively) can be used in for loops\n",
    "\n",
    "# Example :- \n",
    "\n",
    "spam = {'color': 'red', 'age': 23}\n",
    "for v in spam.values():\n",
    "    print(v)\n",
    "\n",
    "# in the above code the for loop iterates over the values in the dictionary spam"
   ]
  },
  {
   "cell_type": "code",
   "execution_count": 10,
   "id": "35166843",
   "metadata": {},
   "outputs": [
    {
     "name": "stdout",
     "output_type": "stream",
     "text": [
      "color\n",
      "age\n"
     ]
    }
   ],
   "source": [
    "for k in spam.keys():\n",
    "    print(k)\n",
    "\n",
    "# the above for loop iterates over the keys in the dictionary spam"
   ]
  },
  {
   "cell_type": "code",
   "execution_count": 11,
   "id": "46cce9db",
   "metadata": {},
   "outputs": [
    {
     "name": "stdout",
     "output_type": "stream",
     "text": [
      "('color', 'red')\n",
      "('age', 23)\n"
     ]
    }
   ],
   "source": [
    "for i in spam.items():\n",
    "    print(i)\n",
    "\n",
    "# the above for loop iterates over the dictionary and prints each key-value pair as individual tuples."
   ]
  },
  {
   "cell_type": "code",
   "execution_count": 12,
   "id": "1b55d318",
   "metadata": {},
   "outputs": [
    {
     "data": {
      "text/plain": [
       "dict_keys(['color', 'age'])"
      ]
     },
     "execution_count": 12,
     "metadata": {},
     "output_type": "execute_result"
    }
   ],
   "source": [
    "spam.keys()"
   ]
  },
  {
   "cell_type": "code",
   "execution_count": 13,
   "id": "ab96a65f",
   "metadata": {},
   "outputs": [
    {
     "data": {
      "text/plain": [
       "['color', 'age']"
      ]
     },
     "execution_count": 13,
     "metadata": {},
     "output_type": "execute_result"
    }
   ],
   "source": [
    "# if you want a true list from one of these methods, pass its list-like return value to the list() function\n",
    "# Example :- \n",
    "\n",
    "list(spam.keys())\n",
    "\n",
    "# The output will be a list of first key-value pair"
   ]
  },
  {
   "cell_type": "code",
   "execution_count": 14,
   "id": "e7c543f6",
   "metadata": {},
   "outputs": [
    {
     "name": "stdout",
     "output_type": "stream",
     "text": [
      "\n",
      "Key: \"color\" Value: \"purple\". \n",
      "\n",
      "Key: \"age\" Value: \"69\". \n"
     ]
    }
   ],
   "source": [
    "# You can also use the multiple assignment trick in a for loop to assign the key and value to separate variables\n",
    "# Example :- \n",
    "\n",
    "spamOne = {'color': 'purple', 'age': 69}\n",
    "for k, v in spamOne.items():\n",
    "    print('\\nKey: \"'+ k + '\" Value: \"'+ str(v)+'\". ')\n"
   ]
  },
  {
   "cell_type": "code",
   "execution_count": 15,
   "id": "a60d2ba6",
   "metadata": {},
   "outputs": [
    {
     "data": {
      "text/plain": [
       "True"
      ]
     },
     "execution_count": 15,
     "metadata": {},
     "output_type": "execute_result"
    }
   ],
   "source": [
    "# Check whether a Key or value exists in a Dictionary\n",
    "# we can use the \"in\" and \"not in\" operators, like we used in lists.\n",
    "# to see whtether a sertain key or value exists in a dictionary\n",
    "# Example :- \n",
    "\n",
    "spamTwo = {'name': 'Saurav', 'age': 23}\n",
    "'name' in spamTwo.keys()"
   ]
  },
  {
   "cell_type": "code",
   "execution_count": 16,
   "id": "e53d4f0b",
   "metadata": {},
   "outputs": [
    {
     "data": {
      "text/plain": [
       "True"
      ]
     },
     "execution_count": 16,
     "metadata": {},
     "output_type": "execute_result"
    }
   ],
   "source": [
    "'Saurav' in spamTwo.values()"
   ]
  },
  {
   "cell_type": "code",
   "execution_count": 17,
   "id": "8ecba1e1",
   "metadata": {},
   "outputs": [
    {
     "data": {
      "text/plain": [
       "False"
      ]
     },
     "execution_count": 17,
     "metadata": {},
     "output_type": "execute_result"
    }
   ],
   "source": [
    "'color' in spamTwo.keys()"
   ]
  },
  {
   "cell_type": "code",
   "execution_count": 18,
   "id": "ef09e21d",
   "metadata": {},
   "outputs": [
    {
     "data": {
      "text/plain": [
       "True"
      ]
     },
     "execution_count": 18,
     "metadata": {},
     "output_type": "execute_result"
    }
   ],
   "source": [
    "'color' not in spamTwo.keys()"
   ]
  },
  {
   "cell_type": "code",
   "execution_count": 19,
   "id": "0c182530",
   "metadata": {},
   "outputs": [
    {
     "data": {
      "text/plain": [
       "True"
      ]
     },
     "execution_count": 19,
     "metadata": {},
     "output_type": "execute_result"
    }
   ],
   "source": [
    "'name' in spamTwo # it is a shorter version of writing 'name' in spamTwo.keys()\n",
    "# This is always the case: if you want to check whether a value is(or isn't) a key in the dictionary, \n",
    "# You can simply use the in(or not in) keyword with the dictionary value itself."
   ]
  },
  {
   "cell_type": "code",
   "execution_count": 20,
   "id": "f854d2ac",
   "metadata": {},
   "outputs": [
    {
     "data": {
      "text/plain": [
       "'I am bringing 2 cups'"
      ]
     },
     "execution_count": 20,
     "metadata": {},
     "output_type": "execute_result"
    }
   ],
   "source": [
    "# The get() Method\n",
    "# It's tedious to check whether a key exists in a dictionary before accessing the key's value.\n",
    "# Dictionary have a get() method that takes two arguments: \"key\" of the value to retrieve and a \"fallback value\"\n",
    "# to return if that key does not exist.\n",
    "# Example :- \n",
    "\n",
    "picnicItems = {'apples': 5, 'cups': 2}\n",
    "'I am bringing '+ str(picnicItems.get('cups', 0)) + ' cups'"
   ]
  },
  {
   "cell_type": "code",
   "execution_count": 21,
   "id": "f81c9378",
   "metadata": {},
   "outputs": [
    {
     "data": {
      "text/plain": [
       "'I am bringing 0 eggs'"
      ]
     },
     "execution_count": 21,
     "metadata": {},
     "output_type": "execute_result"
    }
   ],
   "source": [
    "'I am bringing '+ str(picnicItems.get('eggs', 0 ))+ ' eggs'\n",
    "\n",
    "# Because there is no 'eggs' key in the picnicItems dictionary, the default value 0 is returned by the get() method\n",
    "# without get() method, the code would have caused an error message."
   ]
  },
  {
   "cell_type": "code",
   "execution_count": 22,
   "id": "6bb23735",
   "metadata": {},
   "outputs": [
    {
     "data": {
      "text/plain": [
       "{'name': 'Saurav', 'age': 23, 'color': 'black'}"
      ]
     },
     "execution_count": 22,
     "metadata": {},
     "output_type": "execute_result"
    }
   ],
   "source": [
    "# The setdefault() Method\n",
    "# You'll often have to set a value in a dictionary for a certain key only if that key does not already have a value\n",
    "# Example :- \n",
    "\n",
    "spamThree = {'name': 'Saurav', 'age': 23}\n",
    "if 'color' not in spamThree:\n",
    "    spamThree['color'] = 'black'\n",
    "\n",
    "spamThree\n",
    "\n",
    "# The setdefault() method offers a way to do this in noe line of code. \n",
    "# The first argument passed to the method is the key to check for, \n",
    "# and the second argument is the value to set at that key if the key does not exist.\n",
    "# if the key does exist, the setdefault() method return the key's value"
   ]
  },
  {
   "cell_type": "code",
   "execution_count": 23,
   "id": "6fc2241f",
   "metadata": {},
   "outputs": [
    {
     "data": {
      "text/plain": [
       "{'name': 'Saurav', 'age': 23, 'color': 'black'}"
      ]
     },
     "execution_count": 23,
     "metadata": {},
     "output_type": "execute_result"
    }
   ],
   "source": [
    "# Example with the setdefault() method\n",
    "spamFour = {'name': 'Saurav', 'age': 23}\n",
    "spamFour.setdefault('color', 'black')\n",
    "spamFour"
   ]
  },
  {
   "cell_type": "code",
   "execution_count": 24,
   "id": "8f3fb909",
   "metadata": {},
   "outputs": [
    {
     "name": "stdout",
     "output_type": "stream",
     "text": [
      "{'I': 1, 't': 6, ' ': 13, 'w': 2, 'a': 4, 's': 3, 'b': 1, 'r': 5, 'i': 6, 'g': 2, 'h': 3, 'c': 3, 'o': 2, 'l': 3, 'd': 3, 'y': 1, 'n': 4, 'A': 1, 'p': 1, ',': 1, 'e': 5, 'k': 2, '.': 1}\n"
     ]
    }
   ],
   "source": [
    "# The setdefault() method is a nice shortcut to ensure that a key exists.\n",
    "# Folling is a short program that couns the number of occurrences of each letter in a string. \n",
    "\n",
    "message = 'It was a bright cold day in April, and the clocks were striking thriteen.'\n",
    "count = {}\n",
    "\n",
    "for character in message:\n",
    "    count.setdefault(character, 0)\n",
    "    count[character] = count[character] + 1\n",
    "\n",
    "print(count)"
   ]
  },
  {
   "cell_type": "code",
   "execution_count": 25,
   "id": "ce8cafce",
   "metadata": {},
   "outputs": [
    {
     "name": "stdout",
     "output_type": "stream",
     "text": [
      "{' ': 13,\n",
      " ',': 1,\n",
      " '.': 1,\n",
      " 'A': 1,\n",
      " 'I': 1,\n",
      " 'a': 4,\n",
      " 'b': 1,\n",
      " 'c': 3,\n",
      " 'd': 3,\n",
      " 'e': 5,\n",
      " 'g': 2,\n",
      " 'h': 3,\n",
      " 'i': 6,\n",
      " 'k': 2,\n",
      " 'l': 3,\n",
      " 'n': 4,\n",
      " 'o': 2,\n",
      " 'p': 1,\n",
      " 'r': 5,\n",
      " 's': 3,\n",
      " 't': 6,\n",
      " 'w': 2,\n",
      " 'y': 1}\n"
     ]
    }
   ],
   "source": [
    "# Pritty Printing\n",
    "# if you import the pprint module into your programs, you'll have access to the pprint() and pformat() funcitons\n",
    "# that will \"pretty print\" a dictionary's values.This is helpful when you want a \n",
    "# cleaner display of the items in a dictionary than what print() provides. modify the proevious code with pprint\n",
    "\n",
    "import pprint\n",
    "messageOne = \"It was a bright cold day in April, and the clocks were striking thirteen.\"\n",
    "count = {}\n",
    "\n",
    "for character in messageOne:\n",
    "    count.setdefault(character, 0)\n",
    "    count[character] = count[character] + 1\n",
    "\n",
    "pprint.pprint(count)\n"
   ]
  },
  {
   "cell_type": "code",
   "execution_count": 26,
   "id": "12c004c9",
   "metadata": {},
   "outputs": [
    {
     "name": "stdout",
     "output_type": "stream",
     "text": [
      "{' ': 13,\n",
      " ',': 1,\n",
      " '.': 1,\n",
      " 'A': 1,\n",
      " 'I': 1,\n",
      " 'a': 4,\n",
      " 'b': 1,\n",
      " 'c': 3,\n",
      " 'd': 3,\n",
      " 'e': 5,\n",
      " 'g': 2,\n",
      " 'h': 3,\n",
      " 'i': 6,\n",
      " 'k': 2,\n",
      " 'l': 3,\n",
      " 'n': 4,\n",
      " 'o': 2,\n",
      " 'p': 1,\n",
      " 'r': 5,\n",
      " 's': 3,\n",
      " 't': 6,\n",
      " 'w': 2,\n",
      " 'y': 1}\n"
     ]
    }
   ],
   "source": [
    "# The pprint.pprint() function is especially helpful when the dictionary itsel contains\n",
    "# nested lists or dictionaries.\n",
    "\n",
    "print(pprint.pformat(count))"
   ]
  },
  {
   "cell_type": "code",
   "execution_count": null,
   "id": "296514a8",
   "metadata": {},
   "outputs": [],
   "source": [
    "# Using Data Structures to Model Real-World Things\n",
    "\n"
   ]
  }
 ],
 "metadata": {
  "kernelspec": {
   "display_name": "Python 3",
   "language": "python",
   "name": "python3"
  },
  "language_info": {
   "codemirror_mode": {
    "name": "ipython",
    "version": 3
   },
   "file_extension": ".py",
   "mimetype": "text/x-python",
   "name": "python",
   "nbconvert_exporter": "python",
   "pygments_lexer": "ipython3",
   "version": "3.8.6"
  }
 },
 "nbformat": 4,
 "nbformat_minor": 5
}
