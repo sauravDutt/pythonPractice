{
 "cells": [
  {
   "cell_type": "code",
   "execution_count": 21,
   "id": "c1e3cf94",
   "metadata": {},
   "outputs": [],
   "source": [
    "\n",
    "# This is the Dictionaries and Structuring Data Revision...\n",
    "\n",
    "# Dictionaries, like a list a dectionary is a mutable collection of many values.\n",
    "# But unlike indexes for lists, indexes for dictionaries can use many different data types, not just integers.\n",
    "# Indexes for dictionaries are called keys, and a \"key\" with its associated value is called a \"key-value pair\".\n",
    "# in Code a dectionary is typed with braces, {} \n",
    "\n",
    "# Example :- "
   ]
  },
  {
   "cell_type": "code",
   "execution_count": 22,
   "id": "dee632dd",
   "metadata": {},
   "outputs": [],
   "source": [
    "myCat = {\n",
    "    'size': 'fat',\n",
    "    'color': 'orange',\n",
    "    'disposition': 'loud'\n",
    "}\n",
    "\n",
    "# This assigns a dictionary to the myCat variable. This dictionary's keys are 'size', 'color', 'disposition'\n",
    "# and the values are 'fat', 'orange', 'loud' respectively. You can access these values through their keys :- \n"
   ]
  },
  {
   "cell_type": "code",
   "execution_count": 23,
   "id": "944de835",
   "metadata": {},
   "outputs": [
    {
     "data": {
      "text/plain": [
       "'fat'"
      ]
     },
     "execution_count": 23,
     "metadata": {},
     "output_type": "execute_result"
    }
   ],
   "source": [
    "myCat['size']"
   ]
  },
  {
   "cell_type": "code",
   "execution_count": 24,
   "id": "611ecf6d",
   "metadata": {},
   "outputs": [
    {
     "data": {
      "text/plain": [
       "'my Cat has \"orange\" fur.'"
      ]
     },
     "execution_count": 24,
     "metadata": {},
     "output_type": "execute_result"
    }
   ],
   "source": [
    "'my Cat has \"'+ myCat['color'] + '\" fur.'"
   ]
  },
  {
   "cell_type": "code",
   "execution_count": 25,
   "id": "e8dd3425",
   "metadata": {},
   "outputs": [
    {
     "data": {
      "text/plain": [
       "False"
      ]
     },
     "execution_count": 25,
     "metadata": {},
     "output_type": "execute_result"
    }
   ],
   "source": [
    "# Dictionaries Vs Lists\n",
    "# Unlike list, items in dictionaries are unordered.\n",
    "# The first item in list named spam would be spam[0], but there is no \"first\" item in dictionary. \n",
    "# While the order of items matters for determining whether two lists are the same, \n",
    "# it does not matter in what order the key-value pairs are typed in a dictionary\n",
    "# Example :- \n",
    "\n",
    "spam = ['cats', 'bats', 'moose']\n",
    "bacon = ['bats', 'cats', 'moose']\n",
    "spam == bacon\n"
   ]
  },
  {
   "cell_type": "code",
   "execution_count": 26,
   "id": "0c06a476",
   "metadata": {},
   "outputs": [
    {
     "data": {
      "text/plain": [
       "True"
      ]
     },
     "execution_count": 26,
     "metadata": {},
     "output_type": "execute_result"
    }
   ],
   "source": [
    "eggs = {'name': 'Simba', 'species': 'cat', 'age': '2'}\n",
    "ham = {'age': '2', 'name': 'Simba', 'species': 'cat'}\n",
    "eggs == ham"
   ]
  },
  {
   "cell_type": "code",
   "execution_count": 27,
   "id": "0c12f9e1",
   "metadata": {},
   "outputs": [],
   "source": [
    "# Because dictionaries are not ordered, they can't be sliced like lists.\n",
    "# Trying to access a key that does not exist in a dictionary will result in a KeyError error message."
   ]
  },
  {
   "cell_type": "code",
   "execution_count": 28,
   "id": "cd3234d6",
   "metadata": {},
   "outputs": [
    {
     "name": "stdout",
     "output_type": "stream",
     "text": [
      "Enter a name: \n",
      " ( blank to quit )\n",
      "\n"
     ]
    }
   ],
   "source": [
    "# Though dictionaries are not ordered, the fact that you can kave arbitrary values for the keys \n",
    "# allows you to organize your data in powerful ways. \n",
    "\n",
    "# Say you wanted your program to store data about your friends' birthdays as values :- \n",
    "\n",
    "birthdays = {'Anshul': 'Sep 24', 'Mom': 'Nov 27', 'Dad': 'March 20', 'Saurav': 'Feb 22'}\n",
    "\n",
    "while True:\n",
    "    print('Enter a name: \\n ( blank to quit )')\n",
    "    name = input()\n",
    "    if name == '':\n",
    "        break\n",
    "    \n",
    "    if name in birthdays:\n",
    "        print(birthdays[name] + ' is the birthday of '+ name)\n",
    "    else:\n",
    "        print('I do not have birthday information for '+ name)\n",
    "        print('What is their birthday?')\n",
    "        bday = input()\n",
    "        birthdays[name] = bday\n",
    "        print(\"Birthday database updated...\")\n",
    "\n",
    "# All the data entered in this program is forgotten whe the program terminates, \n",
    "# We'll learn how to save data to files on the hard drive in the \"Reading and Writing Files\" Chapter\n",
    "        "
   ]
  },
  {
   "cell_type": "code",
   "execution_count": 29,
   "id": "0a71f99b",
   "metadata": {},
   "outputs": [
    {
     "name": "stdout",
     "output_type": "stream",
     "text": [
      "red\n",
      "23\n"
     ]
    }
   ],
   "source": [
    "# The keys(), values() and items() Methods\n",
    "\n",
    "# There are three dictionary methods that will return list-like values of \n",
    "# the dictionary's keys, values or bothe keys and values: keys(), values(), and items().\n",
    "# The values returned by these methods are not true lists: they cannot be modified and do not have an append() method.\n",
    "# But these date types (dict_keys, dict_values and dict_items, respectively) can be used in for loops\n",
    "\n",
    "# Example :- \n",
    "\n",
    "spam = {'color': 'red', 'age': 23}\n",
    "for v in spam.values():\n",
    "    print(v)\n",
    "\n",
    "# in the above code the for loop iterates over the values in the dictionary spam"
   ]
  },
  {
   "cell_type": "code",
   "execution_count": 30,
   "id": "35166843",
   "metadata": {},
   "outputs": [
    {
     "name": "stdout",
     "output_type": "stream",
     "text": [
      "color\n",
      "age\n"
     ]
    }
   ],
   "source": [
    "for k in spam.keys():\n",
    "    print(k)\n",
    "\n",
    "# the above for loop iterates over the keys in the dictionary spam"
   ]
  },
  {
   "cell_type": "code",
   "execution_count": 31,
   "id": "46cce9db",
   "metadata": {},
   "outputs": [
    {
     "name": "stdout",
     "output_type": "stream",
     "text": [
      "('color', 'red')\n",
      "('age', 23)\n"
     ]
    }
   ],
   "source": [
    "for i in spam.items():\n",
    "    print(i)\n",
    "\n",
    "# the above for loop iterates over the dictionary and prints each key-value pair as individual tuples."
   ]
  },
  {
   "cell_type": "code",
   "execution_count": 32,
   "id": "1b55d318",
   "metadata": {},
   "outputs": [
    {
     "data": {
      "text/plain": [
       "dict_keys(['color', 'age'])"
      ]
     },
     "execution_count": 32,
     "metadata": {},
     "output_type": "execute_result"
    }
   ],
   "source": [
    "spam.keys()"
   ]
  },
  {
   "cell_type": "code",
   "execution_count": 33,
   "id": "ab96a65f",
   "metadata": {},
   "outputs": [
    {
     "data": {
      "text/plain": [
       "['color', 'age']"
      ]
     },
     "execution_count": 33,
     "metadata": {},
     "output_type": "execute_result"
    }
   ],
   "source": [
    "# if you want a true list from one of these methods, pass its list-like return value to the list() function\n",
    "# Example :- \n",
    "\n",
    "list(spam.keys())\n",
    "\n",
    "# The output will be a list of first key-value pair"
   ]
  },
  {
   "cell_type": "code",
   "execution_count": 34,
   "id": "e7c543f6",
   "metadata": {},
   "outputs": [
    {
     "name": "stdout",
     "output_type": "stream",
     "text": [
      "\n",
      "Key: \"color\" Value: \"purple\". \n",
      "\n",
      "Key: \"age\" Value: \"69\". \n"
     ]
    }
   ],
   "source": [
    "# You can also use the multiple assignment trick in a for loop to assign the key and value to separate variables\n",
    "# Example :- \n",
    "\n",
    "spamOne = {'color': 'purple', 'age': 69}\n",
    "for k, v in spamOne.items():\n",
    "    print('\\nKey: \"'+ k + '\" Value: \"'+ str(v)+'\". ')\n"
   ]
  },
  {
   "cell_type": "code",
   "execution_count": 35,
   "id": "a60d2ba6",
   "metadata": {},
   "outputs": [
    {
     "data": {
      "text/plain": [
       "True"
      ]
     },
     "execution_count": 35,
     "metadata": {},
     "output_type": "execute_result"
    }
   ],
   "source": [
    "# Check whether a Key or value exists in a Dictionary\n",
    "# we can use the \"in\" and \"not in\" operators, like we used in lists.\n",
    "# to see whtether a sertain key or value exists in a dictionary\n",
    "# Example :- \n",
    "\n",
    "spamTwo = {'name': 'Saurav', 'age': 23}\n",
    "'name' in spamTwo.keys()"
   ]
  },
  {
   "cell_type": "code",
   "execution_count": 36,
   "id": "e53d4f0b",
   "metadata": {},
   "outputs": [
    {
     "data": {
      "text/plain": [
       "True"
      ]
     },
     "execution_count": 36,
     "metadata": {},
     "output_type": "execute_result"
    }
   ],
   "source": [
    "'Saurav' in spamTwo.values()"
   ]
  },
  {
   "cell_type": "code",
   "execution_count": 37,
   "id": "8ecba1e1",
   "metadata": {},
   "outputs": [
    {
     "data": {
      "text/plain": [
       "False"
      ]
     },
     "execution_count": 37,
     "metadata": {},
     "output_type": "execute_result"
    }
   ],
   "source": [
    "'color' in spamTwo.keys()"
   ]
  },
  {
   "cell_type": "code",
   "execution_count": 38,
   "id": "ef09e21d",
   "metadata": {},
   "outputs": [
    {
     "data": {
      "text/plain": [
       "True"
      ]
     },
     "execution_count": 38,
     "metadata": {},
     "output_type": "execute_result"
    }
   ],
   "source": [
    "'color' not in spamTwo.keys()"
   ]
  },
  {
   "cell_type": "code",
   "execution_count": 39,
   "id": "0c182530",
   "metadata": {},
   "outputs": [
    {
     "data": {
      "text/plain": [
       "True"
      ]
     },
     "execution_count": 39,
     "metadata": {},
     "output_type": "execute_result"
    }
   ],
   "source": [
    "'name' in spamTwo # it is a shorter version of writing 'name' in spamTwo.keys()\n",
    "# This is always the case: if you want to check whether a value is(or isn't) a key in the dictionary, \n",
    "# You can simply use the in(or not in) keyword with the dictionary value itself."
   ]
  },
  {
   "cell_type": "code",
   "execution_count": 42,
   "id": "f854d2ac",
   "metadata": {},
   "outputs": [
    {
     "data": {
      "text/plain": [
       "'I am bringing 2 cups'"
      ]
     },
     "execution_count": 42,
     "metadata": {},
     "output_type": "execute_result"
    }
   ],
   "source": [
    "# The get() Method\n",
    "# It's tedious to check whether a key exists in a dictionary before accessing the key's value.\n",
    "# Dictionary have a get() method that takes two arguments: \"key\" of the value to retrieve and a \"fallback value\"\n",
    "# to return if that key does not exist.\n",
    "# Example :- \n",
    "\n",
    "picnicItems = {'apples': 5, 'cups': 2}\n",
    "'I am bringing '+ str(picnicItems.get('cups', 0)) + ' cups'"
   ]
  },
  {
   "cell_type": "code",
   "execution_count": 44,
   "id": "f81c9378",
   "metadata": {},
   "outputs": [
    {
     "data": {
      "text/plain": [
       "'I am bringing 0 eggs'"
      ]
     },
     "execution_count": 44,
     "metadata": {},
     "output_type": "execute_result"
    }
   ],
   "source": [
    "'I am bringing '+ str(picnicItems.get('eggs', 0 ))+ ' eggs'\n",
    "\n",
    "# Because there is no 'eggs' key in the picnicItems dictionary, the default value 0 is returned by the get() method\n",
    "# without get() method, the code would have caused an error message."
   ]
  },
  {
   "cell_type": "code",
   "execution_count": 47,
   "id": "6bb23735",
   "metadata": {},
   "outputs": [
    {
     "data": {
      "text/plain": [
       "{'name': 'Saurav', 'age': 23, 'color': 'black'}"
      ]
     },
     "execution_count": 47,
     "metadata": {},
     "output_type": "execute_result"
    }
   ],
   "source": [
    "# The setdefault() Method\n",
    "# You'll often have to set a value in a dictionary for a certain key only if that key does not already have a value\n",
    "# Example :- \n",
    "\n",
    "spamThree = {'name': 'Saurav', 'age': 23}\n",
    "if 'color' not in spamThree:\n",
    "    spamThree['color'] = 'black'\n",
    "\n",
    "spamThree\n",
    "\n",
    "# The setdefault() method offers a way to do this in noe line of code. \n",
    "# The first argument passed to the method is the key to check for, \n",
    "# and the second argument is the value to set at that key if the key does not exist.\n",
    "# if the key does exist, the setdefault() method return the key's value"
   ]
  },
  {
   "cell_type": "code",
   "execution_count": 49,
   "id": "6fc2241f",
   "metadata": {},
   "outputs": [
    {
     "data": {
      "text/plain": [
       "{'name': 'Saurav', 'age': 23, 'color': 'black'}"
      ]
     },
     "execution_count": 49,
     "metadata": {},
     "output_type": "execute_result"
    }
   ],
   "source": [
    "# Example with the setdefault() method\n",
    "spamFour = {'name': 'Saurav', 'age': 23}\n",
    "spamFour.setdefault('color', 'black')\n",
    "spamFour"
   ]
  }
 ],
 "metadata": {
  "kernelspec": {
   "display_name": "Python 3",
   "language": "python",
   "name": "python3"
  },
  "language_info": {
   "codemirror_mode": {
    "name": "ipython",
    "version": 3
   },
   "file_extension": ".py",
   "mimetype": "text/x-python",
   "name": "python",
   "nbconvert_exporter": "python",
   "pygments_lexer": "ipython3",
   "version": "3.8.6"
  }
 },
 "nbformat": 4,
 "nbformat_minor": 5
}
