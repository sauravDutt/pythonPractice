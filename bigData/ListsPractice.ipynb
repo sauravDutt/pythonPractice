{
 "cells": [
  {
   "cell_type": "code",
   "execution_count": 3,
   "id": "67aa3e87",
   "metadata": {},
   "outputs": [
    {
     "data": {
      "text/plain": [
       "'cat'"
      ]
     },
     "execution_count": 3,
     "metadata": {},
     "output_type": "execute_result"
    }
   ],
   "source": [
    "span = ['cat', 'rat', 'bat', 'elephent']\n",
    "span[0]"
   ]
  },
  {
   "cell_type": "code",
   "execution_count": 4,
   "id": "1f36c009",
   "metadata": {},
   "outputs": [
    {
     "data": {
      "text/plain": [
       "'bat'"
      ]
     },
     "execution_count": 4,
     "metadata": {},
     "output_type": "execute_result"
    }
   ],
   "source": [
    "span[2]"
   ]
  },
  {
   "cell_type": "code",
   "execution_count": 5,
   "id": "be99c5e2",
   "metadata": {},
   "outputs": [
    {
     "data": {
      "text/plain": [
       "'Hello cat, rat said elephent Fucked bat any thoughts'"
      ]
     },
     "execution_count": 5,
     "metadata": {},
     "output_type": "execute_result"
    }
   ],
   "source": [
    "'Hello ' + span[0] + ', ' + span[1] + ' said '+ span[3] + ' Fucked '+ span[2] + ' any thoughts'"
   ]
  },
  {
   "cell_type": "code",
   "execution_count": 9,
   "id": "722ee41f",
   "metadata": {},
   "outputs": [
    {
     "data": {
      "text/plain": [
       "'elephent Fucked bat 40 times  that day alone. Any thoughts cat. '"
      ]
     },
     "execution_count": 9,
     "metadata": {},
     "output_type": "execute_result"
    }
   ],
   "source": [
    "spanTwo = [span, [10, 20, 30, 40]]\n",
    "spanTwo[0][3] + ' Fucked '+ spanTwo[0][2] + ' ' + str(spanTwo[1][3]) + ' times ' + ' that day alone. Any thoughts '+ spanTwo[0][0] + '. '"
   ]
  },
  {
   "cell_type": "code",
   "execution_count": 12,
   "id": "811f9655",
   "metadata": {},
   "outputs": [
    {
     "data": {
      "text/plain": [
       "'elephent Fucked bat 40 times  that day alone. Any thoughts cat. '"
      ]
     },
     "execution_count": 12,
     "metadata": {},
     "output_type": "execute_result"
    }
   ],
   "source": [
    "# Negative Indexes \n",
    "spanTwo[0][-1] + ' Fucked '+ spanTwo[0][-2] + ' ' + str(spanTwo[1][3]) + ' times ' + ' that day alone. Any thoughts '+ spanTwo[0][0] + '. '"
   ]
  },
  {
   "cell_type": "code",
   "execution_count": null,
   "id": "602fd7c6",
   "metadata": {},
   "outputs": [],
   "source": [
    "# Getting a list from another list with Slices..."
   ]
  }
 ],
 "metadata": {
  "kernelspec": {
   "display_name": "Python 3",
   "language": "python",
   "name": "python3"
  },
  "language_info": {
   "codemirror_mode": {
    "name": "ipython",
    "version": 3
   },
   "file_extension": ".py",
   "mimetype": "text/x-python",
   "name": "python",
   "nbconvert_exporter": "python",
   "pygments_lexer": "ipython3",
   "version": "3.8.6"
  }
 },
 "nbformat": 4,
 "nbformat_minor": 5
}
