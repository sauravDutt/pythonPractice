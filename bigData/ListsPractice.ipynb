{
 "cells": [
  {
   "cell_type": "code",
   "execution_count": 1,
   "id": "67aa3e87",
   "metadata": {},
   "outputs": [
    {
     "data": {
      "text/plain": [
       "'cat'"
      ]
     },
     "execution_count": 1,
     "metadata": {},
     "output_type": "execute_result"
    }
   ],
   "source": [
    "span = ['cat', 'rat', 'bat', 'elephent']\n",
    "\n",
    "span[0]"
   ]
  },
  {
   "cell_type": "code",
   "execution_count": 2,
   "id": "1f36c009",
   "metadata": {},
   "outputs": [
    {
     "data": {
      "text/plain": [
       "'bat'"
      ]
     },
     "execution_count": 2,
     "metadata": {},
     "output_type": "execute_result"
    }
   ],
   "source": [
    "span[2]"
   ]
  },
  {
   "cell_type": "code",
   "execution_count": 3,
   "id": "be99c5e2",
   "metadata": {},
   "outputs": [
    {
     "data": {
      "text/plain": [
       "'Hello cat, rat said elephent Fucked bat any thoughts'"
      ]
     },
     "execution_count": 3,
     "metadata": {},
     "output_type": "execute_result"
    }
   ],
   "source": [
    "'Hello ' + span[0] + ', ' + span[1] + ' said '+ span[3] + ' Fucked '+ span[2] + ' any thoughts'"
   ]
  },
  {
   "cell_type": "code",
   "execution_count": 4,
   "id": "722ee41f",
   "metadata": {},
   "outputs": [
    {
     "data": {
      "text/plain": [
       "'elephent Fucked bat 40 times  that day alone. Any thoughts cat. '"
      ]
     },
     "execution_count": 4,
     "metadata": {},
     "output_type": "execute_result"
    }
   ],
   "source": [
    "spanTwo = [span, [10, 20, 30, 40]]\n",
    "spanTwo[0][3] + ' Fucked '+ spanTwo[0][2] + ' ' + str(spanTwo[1][3]) + ' times ' + ' that day alone. Any thoughts '+ spanTwo[0][0] + '. '\n"
   ]
  },
  {
   "cell_type": "code",
   "execution_count": 5,
   "id": "811f9655",
   "metadata": {},
   "outputs": [
    {
     "data": {
      "text/plain": [
       "'elephent Fucked bat 40 times  that day alone. Any thoughts cat. '"
      ]
     },
     "execution_count": 5,
     "metadata": {},
     "output_type": "execute_result"
    }
   ],
   "source": [
    "# Negative Indexes \n",
    "spanTwo[0][-1] + ' Fucked '+ spanTwo[0][-2] + ' ' + str(spanTwo[1][3]) + ' times ' + ' that day alone. Any thoughts '+ spanTwo[0][0] + '. '\n"
   ]
  },
  {
   "cell_type": "code",
   "execution_count": 6,
   "id": "602fd7c6",
   "metadata": {},
   "outputs": [
    {
     "data": {
      "text/plain": [
       "['cat', 'bat', 'rat', 'elephent', 'ant']"
      ]
     },
     "execution_count": 6,
     "metadata": {},
     "output_type": "execute_result"
    }
   ],
   "source": [
    "# Getting a list from another list with Slices...\n",
    "# Just as an index can get a single value from a list, a slice can get several values from a list, \n",
    "# in the form of a new list.\n",
    "# in a slice, the first integer is the index where the slice starts.\n",
    "# The second integer is the index where the slice ends.\n",
    "# A slice will go upto but will not include, the value at the second index\n",
    "# Example :- \n",
    "\n",
    "spanThree = ['cat', 'bat', 'rat', 'elephent', 'ant']\n",
    "spanThree[0:5]"
   ]
  },
  {
   "cell_type": "code",
   "execution_count": 7,
   "id": "2e57d0e3",
   "metadata": {},
   "outputs": [
    {
     "data": {
      "text/plain": [
       "['bat', 'rat', 'elephent']"
      ]
     },
     "execution_count": 7,
     "metadata": {},
     "output_type": "execute_result"
    }
   ],
   "source": [
    "spanThree[1:4]"
   ]
  },
  {
   "cell_type": "code",
   "execution_count": 8,
   "id": "80769a15",
   "metadata": {},
   "outputs": [
    {
     "data": {
      "text/plain": [
       "['cat', 'bat', 'rat', 'elephent']"
      ]
     },
     "execution_count": 8,
     "metadata": {},
     "output_type": "execute_result"
    }
   ],
   "source": [
    "spanThree[0:-1]"
   ]
  },
  {
   "cell_type": "code",
   "execution_count": 9,
   "id": "ca90228c",
   "metadata": {},
   "outputs": [
    {
     "data": {
      "text/plain": [
       "['cat', 'bat', 'rat', 'elephent', 'ant']"
      ]
     },
     "execution_count": 9,
     "metadata": {},
     "output_type": "execute_result"
    }
   ],
   "source": [
    "# As a shortcut, you can leave out one or both the indexes on either side of the colon in the slice.\n",
    "# leaving out the first index is the same as using 0, or the beginning of the list.\n",
    "# leaving out the second index is the same as using the length of the list, which will slice to the end of the list\n",
    "# Example :- \n",
    "\n",
    "spanThree[:]"
   ]
  },
  {
   "cell_type": "code",
   "execution_count": 10,
   "id": "02d9a362",
   "metadata": {},
   "outputs": [
    {
     "data": {
      "text/plain": [
       "4"
      ]
     },
     "execution_count": 10,
     "metadata": {},
     "output_type": "execute_result"
    }
   ],
   "source": [
    "# Getting the list lengthe with the length function\n",
    "\n",
    "len(span)"
   ]
  },
  {
   "cell_type": "code",
   "execution_count": 11,
   "id": "3d70c268",
   "metadata": {},
   "outputs": [
    {
     "data": {
      "text/plain": [
       "2"
      ]
     },
     "execution_count": 11,
     "metadata": {},
     "output_type": "execute_result"
    }
   ],
   "source": [
    "len(spanTwo)"
   ]
  },
  {
   "cell_type": "code",
   "execution_count": 12,
   "id": "5c37800a",
   "metadata": {},
   "outputs": [
    {
     "data": {
      "text/plain": [
       "5"
      ]
     },
     "execution_count": 12,
     "metadata": {},
     "output_type": "execute_result"
    }
   ],
   "source": [
    "len(spanThree)"
   ]
  },
  {
   "cell_type": "code",
   "execution_count": 13,
   "id": "6de81e16",
   "metadata": {},
   "outputs": [
    {
     "data": {
      "text/plain": [
       "['hat', 'bat', 'rat', 'elephent', 'ant']"
      ]
     },
     "execution_count": 13,
     "metadata": {},
     "output_type": "execute_result"
    }
   ],
   "source": [
    "# Changing values in a list with indexes\n",
    "\n",
    "spanThree[0] = 'hat'\n",
    "spanThree"
   ]
  },
  {
   "cell_type": "code",
   "execution_count": 14,
   "id": "5bf74c61",
   "metadata": {},
   "outputs": [
    {
     "data": {
      "text/plain": [
       "['hat', 'bat', 'rat', 'cat', 'ant']"
      ]
     },
     "execution_count": 14,
     "metadata": {},
     "output_type": "execute_result"
    }
   ],
   "source": [
    "spanThree[3] = 'cat'\n",
    "spanThree"
   ]
  },
  {
   "cell_type": "code",
   "execution_count": 15,
   "id": "ad9bc829",
   "metadata": {},
   "outputs": [
    {
     "data": {
      "text/plain": [
       "['hat', 'bat', 'rat', 'cat', 'mat']"
      ]
     },
     "execution_count": 15,
     "metadata": {},
     "output_type": "execute_result"
    }
   ],
   "source": [
    "spanThree[-1] = 'mat'\n",
    "spanThree"
   ]
  },
  {
   "cell_type": "code",
   "execution_count": 16,
   "id": "d2ce3d36",
   "metadata": {},
   "outputs": [
    {
     "data": {
      "text/plain": [
       "[1, 2, 3, 4, 'A', 'B', 'C', 'D']"
      ]
     },
     "execution_count": 16,
     "metadata": {},
     "output_type": "execute_result"
    }
   ],
   "source": [
    "# List Concatenation and list Replication\n",
    "# Lists can be concatenated and replicated just like strings.\n",
    "# The + operator combines two lists to create a new list value \n",
    "# The * operator can be used with a list and aninteter value to replicate the list.\n",
    "# Example :- \n",
    "\n",
    "[1,2,3,4] + ['A', 'B', 'C', 'D']"
   ]
  },
  {
   "cell_type": "code",
   "execution_count": 17,
   "id": "ecbdedb0",
   "metadata": {},
   "outputs": [
    {
     "data": {
      "text/plain": [
       "['X', 'Y', 'Z', 'X', 'Y', 'Z', 'X', 'Y', 'Z']"
      ]
     },
     "execution_count": 17,
     "metadata": {},
     "output_type": "execute_result"
    }
   ],
   "source": [
    "['X', 'Y', 'Z'] * 3"
   ]
  },
  {
   "cell_type": "code",
   "execution_count": 18,
   "id": "1297f694",
   "metadata": {},
   "outputs": [
    {
     "data": {
      "text/plain": [
       "['cat', 'rat', 'elephent']"
      ]
     },
     "execution_count": 18,
     "metadata": {},
     "output_type": "execute_result"
    }
   ],
   "source": [
    "# Removing Values from list with del statements\n",
    "# the del statement will delete values at an index in a list\n",
    "# Example :- \n",
    "\n",
    "spanFour = ['cat', 'rat', 'bat', 'elephent']\n",
    "del spanFour[2]\n",
    "spanFour\n",
    "\n",
    "# the del statement can also be used on a simple variable to delete it,"
   ]
  },
  {
   "cell_type": "code",
   "execution_count": 19,
   "id": "7f3ee9d8",
   "metadata": {},
   "outputs": [
    {
     "name": "stdout",
     "output_type": "stream",
     "text": [
      "Enter the name of cat 1 (of enter notheing to stop.): \n",
      "simba\n",
      "Enter the name of cat 2 (of enter notheing to stop.): \n",
      "uzi\n",
      "Enter the name of cat 3 (of enter notheing to stop.): \n",
      "billu\n",
      "Enter the name of cat 4 (of enter notheing to stop.): \n",
      "baby\n",
      "Enter the name of cat 5 (of enter notheing to stop.): \n",
      "\n",
      "The Cat names are: \n",
      " simba\n",
      " uzi\n",
      " billu\n",
      " baby\n"
     ]
    }
   ],
   "source": [
    "catNames = []\n",
    "while True:\n",
    "    print(\"Enter the name of cat \" + str(len(catNames) +1) + \" (of enter notheing to stop.): \")\n",
    "    name = input()\n",
    "    if name == '':\n",
    "        break\n",
    "    catNames = catNames + [name] #list Concatenation\n",
    "\n",
    "print('The Cat names are: ')\n",
    "for name in catNames:\n",
    "    print(' '+ name)"
   ]
  },
  {
   "cell_type": "code",
   "execution_count": 21,
   "id": "1c2ddcb5",
   "metadata": {},
   "outputs": [
    {
     "name": "stdout",
     "output_type": "stream",
     "text": [
      "Index 0 is suppies is : pens\n",
      "Index 1 is suppies is : staplers\n",
      "Index 2 is suppies is : flamethrowers\n",
      "Index 3 is suppies is : binders\n"
     ]
    }
   ],
   "source": [
    "# Using for loop with lists\n",
    "\n",
    "supplies = ['pens', 'staplers', 'flamethrowers', 'binders']\n",
    "for i in range(len(supplies)):\n",
    "    print('Index '+ str(i) + ' is suppies is : ' + supplies[i])"
   ]
  },
  {
   "cell_type": "code",
   "execution_count": 24,
   "id": "758d242e",
   "metadata": {},
   "outputs": [
    {
     "name": "stdout",
     "output_type": "stream",
     "text": [
      " Howdy hello\n",
      " Howdy hi\n",
      " Howdy howdy\n",
      " Howdy hey\n"
     ]
    }
   ],
   "source": [
    "# The 'in' and 'not in' Operators\n",
    "# You can determine whether a value is or isn't in a list with the in and not in operators\n",
    "# Example :- \n",
    "\n",
    "spanFive = ['hello', 'hi', 'howdy', 'hey']\n",
    "if 'howdy' in spanFive:\n",
    "    for i in range(len(spanFive)):\n",
    "        print(' Howdy '+ spanFive[i])"
   ]
  },
  {
   "cell_type": "code",
   "execution_count": 28,
   "id": "a657f5a9",
   "metadata": {},
   "outputs": [
    {
     "name": "stdout",
     "output_type": "stream",
     "text": [
      "Enter a pet name: \n",
      "tiger\n",
      "I do not have a pet named tiger. \n"
     ]
    }
   ],
   "source": [
    "myPets = ['Simba', 'Uzi', 'Billu', 'Baby']\n",
    "print('Enter a pet name: ')\n",
    "name = input()\n",
    "if name not in myPets: \n",
    "    print('I do not have a pet named '+ name + '. ')\n",
    "else:\n",
    "    print(name + ' is my pet.')"
   ]
  },
  {
   "cell_type": "code",
   "execution_count": 31,
   "id": "3ba357a6",
   "metadata": {},
   "outputs": [],
   "source": [
    "# The Multiple Assignment Trick\n",
    "# The multiple assignment trick is technically called tuple unpacking is a shortcut,\n",
    "# that lets you assign multiple variables with the values in a list in one line of code .\n",
    "# instead of doing the following :-\n",
    "\n",
    "cat = ['fat', 'gray', 'loud']\n",
    "size = cat[0]\n",
    "color = cat[1]\n",
    "disposition = cat[2]\n",
    "\n",
    "# we can do the following :- \n",
    "size, color, disposition = cat\n",
    "\n",
    "# Both will give the same result\n",
    "# The number of variables and the length of the list must be exacly equal, or Python will give you a ValueError."
   ]
  },
  {
   "cell_type": "code",
   "execution_count": 33,
   "id": "b7ef0a2b",
   "metadata": {},
   "outputs": [
    {
     "name": "stdout",
     "output_type": "stream",
     "text": [
      "Index 0 in supplies is : pens\n",
      "Index 1 in supplies is : staplers\n",
      "Index 2 in supplies is : flamethrowers\n",
      "Index 3 in supplies is : binders\n"
     ]
    }
   ],
   "source": [
    "# Using enumerate() function with Lists\n",
    "# instead of using the range(len(someList)) technique with a for loop,\n",
    "# to obtain the integer index of the items in the list, you can call the enumerate() function instead\n",
    "# on each iteration of the loop, enumerate() will return two values: the index of the item in the list and the item in the list itself.\n",
    "# Example :- \n",
    "\n",
    "\n",
    "supplies = ['pens', 'staplers', 'flamethrowers', 'binders']\n",
    "for index, item in enumerate(supplies):\n",
    "    print('Index ' + str(index) + ' in supplies is : '+ item)\n"
   ]
  },
  {
   "cell_type": "code",
   "execution_count": 42,
   "id": "7eb953f1",
   "metadata": {},
   "outputs": [
    {
     "data": {
      "text/plain": [
       "'Cat'"
      ]
     },
     "execution_count": 42,
     "metadata": {},
     "output_type": "execute_result"
    }
   ],
   "source": [
    "# Using the random.choice() and random.shuffle() function with lists\n",
    "# The random module has a souple functions that accept list for arguments.\n",
    "\n",
    "# the \"random.choice()\" function will return a randomly selected item from the list.\n",
    "# Exaple :- \n",
    "\n",
    "import random\n",
    "pets = ['Dog', 'Cat', 'Elephent']\n",
    "random.choice(pets)"
   ]
  },
  {
   "cell_type": "code",
   "execution_count": 43,
   "id": "7224659c",
   "metadata": {},
   "outputs": [
    {
     "data": {
      "text/plain": [
       "'Elephent'"
      ]
     },
     "execution_count": 43,
     "metadata": {},
     "output_type": "execute_result"
    }
   ],
   "source": [
    "random.choice(pets)\n",
    "\n",
    "# You can consider \"random.choice(someList)\", to be a shorter form of \"someList[random.randint(0, len(someList)-1)]\".\n"
   ]
  },
  {
   "cell_type": "code",
   "execution_count": 46,
   "id": "baca778c",
   "metadata": {},
   "outputs": [
    {
     "data": {
      "text/plain": [
       "['Saurav', 'Kabir', 'Avi', 'Anshul']"
      ]
     },
     "execution_count": 46,
     "metadata": {},
     "output_type": "execute_result"
    }
   ],
   "source": [
    "# The random.shuffle() function will reorder the items in a list. The function modifies the list in place,\n",
    "# rather than returning a new list\n",
    "# Example :- \n",
    "\n",
    "import random\n",
    "people = ['Anshul', 'Saurav', 'Kabir', 'Avi']\n",
    "random.shuffle(people)\n",
    "people"
   ]
  },
  {
   "cell_type": "code",
   "execution_count": 47,
   "id": "a408de98",
   "metadata": {},
   "outputs": [
    {
     "data": {
      "text/plain": [
       "['Saurav', 'Avi', 'Kabir', 'Anshul']"
      ]
     },
     "execution_count": 47,
     "metadata": {},
     "output_type": "execute_result"
    }
   ],
   "source": [
    "random.shuffle(people)\n",
    "people"
   ]
  },
  {
   "cell_type": "code",
   "execution_count": 49,
   "id": "d30aa0c4",
   "metadata": {},
   "outputs": [
    {
     "data": {
      "text/plain": [
       "2"
      ]
     },
     "execution_count": 49,
     "metadata": {},
     "output_type": "execute_result"
    }
   ],
   "source": [
    "# Methods, a method is the same thing as a function, except it is called on a value\n",
    "# Each data type has its own set of Methods. The List data type, for example has several useful methods \n",
    "# for finding, adding, removing and otherwise manipulating values in a list.\n",
    "\n",
    "# Finding a value in the list with the index() Method.\n",
    "# list values have an index() method that can be passed a value, \n",
    "# if that value exists in the list the index of the value is returned.\n",
    "# If the value isn't in the list then Python produces a ValueError\n",
    "# Example :- \n",
    "\n",
    "spanSix = ['hello', 'howdy', 'hi', 'hey', 'howdy']\n",
    "spanSix.index('hi')"
   ]
  },
  {
   "cell_type": "code",
   "execution_count": 51,
   "id": "ff4c224b",
   "metadata": {},
   "outputs": [
    {
     "data": {
      "text/plain": [
       "1"
      ]
     },
     "execution_count": 51,
     "metadata": {},
     "output_type": "execute_result"
    }
   ],
   "source": [
    "# When there is a duplication of the value in the list the index of its first appearance is returned\n",
    "# Example :- \n",
    "spanSix.index('howdy')"
   ]
  },
  {
   "cell_type": "code",
   "execution_count": null,
   "id": "dd5946cd",
   "metadata": {},
   "outputs": [],
   "source": [
    "# Adding values to list with the append() nad insert() methods\n"
   ]
  }
 ],
 "metadata": {
  "kernelspec": {
   "display_name": "Python 3",
   "language": "python",
   "name": "python3"
  },
  "language_info": {
   "codemirror_mode": {
    "name": "ipython",
    "version": 3
   },
   "file_extension": ".py",
   "mimetype": "text/x-python",
   "name": "python",
   "nbconvert_exporter": "python",
   "pygments_lexer": "ipython3",
   "version": "3.8.6"
  }
 },
 "nbformat": 4,
 "nbformat_minor": 5
}
