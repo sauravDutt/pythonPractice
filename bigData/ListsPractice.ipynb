{
 "cells": [
  {
   "cell_type": "code",
   "execution_count": 3,
   "id": "67aa3e87",
   "metadata": {},
   "outputs": [
    {
     "data": {
      "text/plain": [
       "'cat'"
      ]
     },
     "execution_count": 3,
     "metadata": {},
     "output_type": "execute_result"
    }
   ],
   "source": [
    "span = ['cat', 'rat', 'bat', 'elephent']\n",
    "\n",
    "span[0]"
   ]
  },
  {
   "cell_type": "code",
   "execution_count": 4,
   "id": "1f36c009",
   "metadata": {},
   "outputs": [
    {
     "data": {
      "text/plain": [
       "'bat'"
      ]
     },
     "execution_count": 4,
     "metadata": {},
     "output_type": "execute_result"
    }
   ],
   "source": [
    "span[2]"
   ]
  },
  {
   "cell_type": "code",
   "execution_count": 5,
   "id": "be99c5e2",
   "metadata": {},
   "outputs": [
    {
     "data": {
      "text/plain": [
       "'Hello cat, rat said elephent Fucked bat any thoughts'"
      ]
     },
     "execution_count": 5,
     "metadata": {},
     "output_type": "execute_result"
    }
   ],
   "source": [
    "'Hello ' + span[0] + ', ' + span[1] + ' said '+ span[3] + ' Fucked '+ span[2] + ' any thoughts'"
   ]
  },
  {
   "cell_type": "code",
   "execution_count": 6,
   "id": "722ee41f",
   "metadata": {},
   "outputs": [
    {
     "data": {
      "text/plain": [
       "'elephent Fucked bat 40 times  that day alone. Any thoughts cat. '"
      ]
     },
     "execution_count": 6,
     "metadata": {},
     "output_type": "execute_result"
    }
   ],
   "source": [
    "spanTwo = [span, [10, 20, 30, 40]]\n",
    "spanTwo[0][3] + ' Fucked '+ spanTwo[0][2] + ' ' + str(spanTwo[1][3]) + ' times ' + ' that day alone. Any thoughts '+ spanTwo[0][0] + '. '\n"
   ]
  },
  {
   "cell_type": "code",
   "execution_count": 7,
   "id": "811f9655",
   "metadata": {},
   "outputs": [
    {
     "data": {
      "text/plain": [
       "'elephent Fucked bat 40 times  that day alone. Any thoughts cat. '"
      ]
     },
     "execution_count": 7,
     "metadata": {},
     "output_type": "execute_result"
    }
   ],
   "source": [
    "# Negative Indexes \n",
    "spanTwo[0][-1] + ' Fucked '+ spanTwo[0][-2] + ' ' + str(spanTwo[1][3]) + ' times ' + ' that day alone. Any thoughts '+ spanTwo[0][0] + '. '\n"
   ]
  },
  {
   "cell_type": "code",
   "execution_count": 8,
   "id": "602fd7c6",
   "metadata": {},
   "outputs": [
    {
     "data": {
      "text/plain": [
       "['cat', 'bat', 'rat', 'elephent', 'ant']"
      ]
     },
     "execution_count": 8,
     "metadata": {},
     "output_type": "execute_result"
    }
   ],
   "source": [
    "# Getting a list from another list with Slices...\n",
    "# Just as an index can get a single value from a list, a slice can get several values from a list, \n",
    "# in the form of a new list.\n",
    "# in a slice, the first integer is the index where the slice starts.\n",
    "# The second integer is the index where the slice ends.\n",
    "# A slice will go upto but will not include, the value at the second index\n",
    "# Example :- \n",
    "\n",
    "spanThree = ['cat', 'bat', 'rat', 'elephent', 'ant']\n",
    "spanThree[0:5]"
   ]
  },
  {
   "cell_type": "code",
   "execution_count": 9,
   "id": "2e57d0e3",
   "metadata": {},
   "outputs": [
    {
     "data": {
      "text/plain": [
       "['bat', 'rat', 'elephent']"
      ]
     },
     "execution_count": 9,
     "metadata": {},
     "output_type": "execute_result"
    }
   ],
   "source": [
    "spanThree[1:4]"
   ]
  },
  {
   "cell_type": "code",
   "execution_count": 10,
   "id": "80769a15",
   "metadata": {},
   "outputs": [
    {
     "data": {
      "text/plain": [
       "['cat', 'bat', 'rat', 'elephent']"
      ]
     },
     "execution_count": 10,
     "metadata": {},
     "output_type": "execute_result"
    }
   ],
   "source": [
    "spanThree[0:-1]"
   ]
  },
  {
   "cell_type": "code",
   "execution_count": 11,
   "id": "ca90228c",
   "metadata": {},
   "outputs": [
    {
     "data": {
      "text/plain": [
       "['cat', 'bat', 'rat', 'elephent', 'ant']"
      ]
     },
     "execution_count": 11,
     "metadata": {},
     "output_type": "execute_result"
    }
   ],
   "source": [
    "# As a shortcut, you can leave out one or both the indexes on either side of the colon in the slice.\n",
    "# leaving out the first index is the same as using 0, or the beginning of the list.\n",
    "# leaving out the second index is the same as using the length of the list, which will slice to the end of the list\n",
    "# Example :- \n",
    "\n",
    "spanThree[:]"
   ]
  },
  {
   "cell_type": "code",
   "execution_count": 12,
   "id": "02d9a362",
   "metadata": {},
   "outputs": [
    {
     "data": {
      "text/plain": [
       "4"
      ]
     },
     "execution_count": 12,
     "metadata": {},
     "output_type": "execute_result"
    }
   ],
   "source": [
    "# Getting the list lengthe with the length function\n",
    "\n",
    "len(span)"
   ]
  },
  {
   "cell_type": "code",
   "execution_count": 13,
   "id": "3d70c268",
   "metadata": {},
   "outputs": [
    {
     "data": {
      "text/plain": [
       "2"
      ]
     },
     "execution_count": 13,
     "metadata": {},
     "output_type": "execute_result"
    }
   ],
   "source": [
    "len(spanTwo)"
   ]
  },
  {
   "cell_type": "code",
   "execution_count": 14,
   "id": "5c37800a",
   "metadata": {},
   "outputs": [
    {
     "data": {
      "text/plain": [
       "5"
      ]
     },
     "execution_count": 14,
     "metadata": {},
     "output_type": "execute_result"
    }
   ],
   "source": [
    "len(spanThree)"
   ]
  },
  {
   "cell_type": "code",
   "execution_count": 15,
   "id": "6de81e16",
   "metadata": {},
   "outputs": [
    {
     "data": {
      "text/plain": [
       "['hat', 'bat', 'rat', 'elephent', 'ant']"
      ]
     },
     "execution_count": 15,
     "metadata": {},
     "output_type": "execute_result"
    }
   ],
   "source": [
    "# Changing values in a list with indexes\n",
    "\n",
    "spanThree[0] = 'hat'\n",
    "spanThree"
   ]
  },
  {
   "cell_type": "code",
   "execution_count": 16,
   "id": "5bf74c61",
   "metadata": {},
   "outputs": [
    {
     "data": {
      "text/plain": [
       "['hat', 'bat', 'rat', 'cat', 'ant']"
      ]
     },
     "execution_count": 16,
     "metadata": {},
     "output_type": "execute_result"
    }
   ],
   "source": [
    "spanThree[3] = 'cat'\n",
    "spanThree"
   ]
  },
  {
   "cell_type": "code",
   "execution_count": 17,
   "id": "ad9bc829",
   "metadata": {},
   "outputs": [
    {
     "data": {
      "text/plain": [
       "['hat', 'bat', 'rat', 'cat', 'mat']"
      ]
     },
     "execution_count": 17,
     "metadata": {},
     "output_type": "execute_result"
    }
   ],
   "source": [
    "spanThree[-1] = 'mat'\n",
    "spanThree"
   ]
  },
  {
   "cell_type": "code",
   "execution_count": 19,
   "id": "d2ce3d36",
   "metadata": {},
   "outputs": [
    {
     "data": {
      "text/plain": [
       "[1, 2, 3, 4, 'A', 'B', 'C', 'D']"
      ]
     },
     "execution_count": 19,
     "metadata": {},
     "output_type": "execute_result"
    }
   ],
   "source": [
    "# List Concatenation and list Replication\n",
    "# Lists can be concatenated and replicated just like strings.\n",
    "# The + operator combines two lists to create a new list value \n",
    "# The * operator can be used with a list and aninteter value to replicate the list.\n",
    "# Example :- \n",
    "\n",
    "[1,2,3,4] + ['A', 'B', 'C', 'D']"
   ]
  },
  {
   "cell_type": "code",
   "execution_count": 21,
   "id": "ecbdedb0",
   "metadata": {},
   "outputs": [
    {
     "data": {
      "text/plain": [
       "['X', 'Y', 'Z', 'X', 'Y', 'Z', 'X', 'Y', 'Z']"
      ]
     },
     "execution_count": 21,
     "metadata": {},
     "output_type": "execute_result"
    }
   ],
   "source": [
    "['X', 'Y', 'Z'] * 3"
   ]
  },
  {
   "cell_type": "code",
   "execution_count": 23,
   "id": "1297f694",
   "metadata": {},
   "outputs": [
    {
     "data": {
      "text/plain": [
       "['cat', 'rat', 'elephent']"
      ]
     },
     "execution_count": 23,
     "metadata": {},
     "output_type": "execute_result"
    }
   ],
   "source": [
    "# Removing Values from list with del statements\n",
    "# the del statement will delete values at an index in a list\n",
    "# Example :- \n",
    "\n",
    "spanFour = ['cat', 'rat', 'bat', 'elephent']\n",
    "del spanFour[2]\n",
    "spanFour\n",
    "\n",
    "# the del statement can also be used on a simple variable to delete it,"
   ]
  },
  {
   "cell_type": "code",
   "execution_count": 26,
   "id": "7f3ee9d8",
   "metadata": {},
   "outputs": [
    {
     "name": "stdout",
     "output_type": "stream",
     "text": [
      "Enter the name of cat 1 (of enter notheing to stop.): \n",
      "simba\n",
      "Enter the name of cat 2 (of enter notheing to stop.): \n",
      "uzi\n",
      "Enter the name of cat 3 (of enter notheing to stop.): \n",
      "billi\n",
      "Enter the name of cat 4 (of enter notheing to stop.): \n",
      "baby\n",
      "Enter the name of cat 5 (of enter notheing to stop.): \n",
      "\n",
      "The Cat names are: \n",
      " simba\n",
      " uzi\n",
      " billi\n",
      " baby\n"
     ]
    }
   ],
   "source": [
    "catNames = []\n",
    "while True:\n",
    "    print(\"Enter the name of cat \" + str(len(catNames) +1) + \" (of enter notheing to stop.): \")\n",
    "    name = input()\n",
    "    if name == '':\n",
    "        break\n",
    "    catNames = catNames + [name] #list Concatenation\n",
    "\n",
    "print('The Cat names are: ')\n",
    "for name in catNames:\n",
    "    print(' '+ name)"
   ]
  },
  {
   "cell_type": "code",
   "execution_count": 29,
   "id": "1c2ddcb5",
   "metadata": {},
   "outputs": [
    {
     "name": "stdout",
     "output_type": "stream",
     "text": [
      "Index 0 is suppies is : pens\n",
      "Index 1 is suppies is : staplers\n",
      "Index 2 is suppies is : flamethrowers\n",
      "Index 3 is suppies is : binders\n"
     ]
    }
   ],
   "source": [
    "# Using for loop with lists\n",
    "\n",
    "supplies = ['pens', 'staplers', 'flamethrowers', 'binders']\n",
    "for i in range(len(supplies)):\n",
    "    print('Index '+ str(i) + ' is suppies is : ' + supplies[i])"
   ]
  },
  {
   "cell_type": "code",
   "execution_count": null,
   "id": "758d242e",
   "metadata": {},
   "outputs": [],
   "source": []
  }
 ],
 "metadata": {
  "kernelspec": {
   "display_name": "Python 3",
   "language": "python",
   "name": "python3"
  },
  "language_info": {
   "codemirror_mode": {
    "name": "ipython",
    "version": 3
   },
   "file_extension": ".py",
   "mimetype": "text/x-python",
   "name": "python",
   "nbconvert_exporter": "python",
   "pygments_lexer": "ipython3",
   "version": "3.8.6"
  }
 },
 "nbformat": 4,
 "nbformat_minor": 5
}
