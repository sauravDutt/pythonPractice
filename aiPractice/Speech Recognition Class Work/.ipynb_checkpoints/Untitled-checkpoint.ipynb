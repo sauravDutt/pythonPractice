{
 "cells": [
  {
   "cell_type": "code",
   "execution_count": 3,
   "id": "6ff3bd02",
   "metadata": {},
   "outputs": [
    {
     "ename": "NameError",
     "evalue": "name 'test' is not defined",
     "output_type": "error",
     "traceback": [
      "\u001b[0;31m---------------------------------------------------------------------------\u001b[0m",
      "\u001b[0;31mNameError\u001b[0m                                 Traceback (most recent call last)",
      "Input \u001b[0;32mIn [3]\u001b[0m, in \u001b[0;36m<cell line: 6>\u001b[0;34m()\u001b[0m\n\u001b[1;32m      2\u001b[0m \u001b[38;5;28;01mfrom\u001b[39;00m \u001b[38;5;21;01msys\u001b[39;00m \u001b[38;5;28;01mimport\u001b[39;00m argv\n\u001b[1;32m      4\u001b[0m FILE \u001b[38;5;241m=\u001b[39m \u001b[38;5;241m1\u001b[39m\n\u001b[0;32m----> 6\u001b[0m file \u001b[38;5;241m=\u001b[39m \u001b[38;5;28mopen\u001b[39m(argv[\u001b[43mtest\u001b[49m\u001b[38;5;241m.\u001b[39mtxt], \u001b[38;5;124m'\u001b[39m\u001b[38;5;124mr\u001b[39m\u001b[38;5;124m'\u001b[39m)\n\u001b[1;32m      7\u001b[0m string \u001b[38;5;241m=\u001b[39m file\u001b[38;5;241m.\u001b[39mread()\n\u001b[1;32m      8\u001b[0m file\u001b[38;5;241m.\u001b[39mclose()\n",
      "\u001b[0;31mNameError\u001b[0m: name 'test' is not defined"
     ]
    }
   ],
   "source": [
    "import re\n",
    "from sys import argv\n",
    "\n",
    "FILE = './test.txt'\n",
    "\n",
    "file = open(argv[FILE], 'r')\n",
    "string = file.read()\n",
    "file.close()\n",
    "\n",
    "price = re.compile(r\"\"\"         # beginning of string\n",
    "                       (\\$      # dollar sign\n",
    "                       [1-9]    # first digit must be non-zero\n",
    "                       \\d * )   # followed by 0 or more digits\n",
    "                       (\\.       # optional cent portion\n",
    "                       \\d {2}  # only 2 digits allowed for cents\n",
    "                         )?     # end of string\"\"\", re.X)\n",
    "\n",
    "valid_prices = price.findall(string)\n",
    "print(valid_prices)"
   ]
  },
  {
   "cell_type": "code",
   "execution_count": null,
   "id": "862d6f75",
   "metadata": {},
   "outputs": [],
   "source": []
  }
 ],
 "metadata": {
  "kernelspec": {
   "display_name": "Python 3",
   "language": "python",
   "name": "python3"
  },
  "language_info": {
   "codemirror_mode": {
    "name": "ipython",
    "version": 3
   },
   "file_extension": ".py",
   "mimetype": "text/x-python",
   "name": "python",
   "nbconvert_exporter": "python",
   "pygments_lexer": "ipython3",
   "version": "3.8.6"
  }
 },
 "nbformat": 4,
 "nbformat_minor": 5
}
