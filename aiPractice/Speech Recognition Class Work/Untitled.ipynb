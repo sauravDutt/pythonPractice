{
 "cells": [
  {
   "cell_type": "code",
   "execution_count": 7,
   "id": "6ff3bd02",
   "metadata": {},
   "outputs": [
    {
     "name": "stdout",
     "output_type": "stream",
     "text": [
      "[('$34', '.23'), ('$23', ''), ('$23', '.23'), ('$2', ''), ('$2313443', '.23'), ('$3422342', ''), ('$230', '.23'), ('$232', '')]\n"
     ]
    }
   ],
   "source": [
    "import re\n",
    "\n",
    "\n",
    "file = open('test.txt', 'r')\n",
    "string = file.read()\n",
    "file.close()\n",
    "\n",
    "price = re.compile(r\"\"\"         # beginning of string\n",
    "                       (\\$      # dollar sign\n",
    "                       [1-9]    # first digit must be non-zero\n",
    "                       \\d * )   # followed by 0 or more digits\n",
    "                       (\\.       # optional cent portion\n",
    "                       \\d {2}  # only 2 digits allowed for cents\n",
    "                         )?     # end of string\"\"\", re.X)\n",
    "\n",
    "valid_prices = price.findall(string)\n",
    "print(valid_prices)"
   ]
  },
  {
   "cell_type": "code",
   "execution_count": null,
   "id": "862d6f75",
   "metadata": {},
   "outputs": [],
   "source": []
  }
 ],
 "metadata": {
  "kernelspec": {
   "display_name": "Python 3",
   "language": "python",
   "name": "python3"
  },
  "language_info": {
   "codemirror_mode": {
    "name": "ipython",
    "version": 3
   },
   "file_extension": ".py",
   "mimetype": "text/x-python",
   "name": "python",
   "nbconvert_exporter": "python",
   "pygments_lexer": "ipython3",
   "version": "3.8.6"
  }
 },
 "nbformat": 4,
 "nbformat_minor": 5
}
