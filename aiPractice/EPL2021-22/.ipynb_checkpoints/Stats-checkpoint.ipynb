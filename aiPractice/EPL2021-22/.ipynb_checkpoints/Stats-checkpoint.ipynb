{
 "cells": [
  {
   "cell_type": "code",
   "execution_count": 2,
   "id": "b73aafe0",
   "metadata": {},
   "outputs": [
    {
     "name": "stdout",
     "output_type": "stream",
     "text": [
      "            Date         HomeTeam Result                  AwayTeam\n",
      "0    13-Aug-2021        Brentford    2:0                   Arsenal\n",
      "1    14-Aug-2021          Burnley    1:2  Brighton and Hove Albion\n",
      "2    14-Aug-2021          Chelsea    3:0            Crystal Palace\n",
      "3    14-Aug-2021          Everton    3:1               Southampton\n",
      "4    14-Aug-2021   Leicester City    1:0   Wolverhampton Wanderers\n",
      "..           ...              ...    ...                       ...\n",
      "375  22-May-2022   Crystal Palace    1:0         Manchester United\n",
      "376  22-May-2022   Leicester City    4:1               Southampton\n",
      "377  22-May-2022        Liverpool    3:1   Wolverhampton Wanderers\n",
      "378  22-May-2022  Manchester City    3:2               Aston Villa\n",
      "379  22-May-2022     Norwich City    0:5         Tottenham Hotspur\n",
      "\n",
      "[380 rows x 4 columns]\n"
     ]
    }
   ],
   "source": [
    "import pandas as pd\n",
    "\n",
    "data = pd.read_csv('all_match_results.csv')\n",
    "\n",
    "print(data)"
   ]
  },
  {
   "cell_type": "code",
   "execution_count": null,
   "id": "8199dfab",
   "metadata": {},
   "outputs": [],
   "source": [
    "print(\"The above is just the beginning, of my AI and data analytics journey\")"
   ]
  }
 ],
 "metadata": {
  "kernelspec": {
   "display_name": "Python 3",
   "language": "python",
   "name": "python3"
  },
  "language_info": {
   "codemirror_mode": {
    "name": "ipython",
    "version": 3
   },
   "file_extension": ".py",
   "mimetype": "text/x-python",
   "name": "python",
   "nbconvert_exporter": "python",
   "pygments_lexer": "ipython3",
   "version": "3.8.6"
  }
 },
 "nbformat": 4,
 "nbformat_minor": 5
}
